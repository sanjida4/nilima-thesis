{
 "cells": [
  {
   "cell_type": "code",
   "execution_count": 1,
   "metadata": {
    "_cell_guid": "b1076dfc-b9ad-4769-8c92-a6c4dae69d19",
    "_uuid": "8f2839f25d086af736a60e9eeb907d3b93b6e0e5",
    "execution": {
     "iopub.execute_input": "2021-01-05T08:32:43.807371Z",
     "iopub.status.busy": "2021-01-05T08:32:43.806710Z",
     "iopub.status.idle": "2021-01-05T08:32:43.815197Z",
     "shell.execute_reply": "2021-01-05T08:32:43.814537Z"
    },
    "papermill": {
     "duration": 0.040974,
     "end_time": "2021-01-05T08:32:43.815309",
     "exception": false,
     "start_time": "2021-01-05T08:32:43.774335",
     "status": "completed"
    },
    "tags": []
   },
   "outputs": [
    {
     "name": "stdout",
     "output_type": "stream",
     "text": [
      "/kaggle/input/pima-indians-diabetes-database/diabetes.csv\n"
     ]
    }
   ],
   "source": [
    "# This Python 3 environment comes with many helpful analytics libraries installed\n",
    "# It is defined by the kaggle/python Docker image: https://github.com/kaggle/docker-python\n",
    "# For example, here's several helpful packages to load\n",
    "\n",
    "import numpy as np # linear algebra\n",
    "import pandas as pd # data processing, CSV file I/O (e.g. pd.read_csv)\n",
    "\n",
    "# Input data files are available in the read-only \"../input/\" directory\n",
    "# For example, running this (by clicking run or pressing Shift+Enter) will list all files under the input directory\n",
    "\n",
    "import os\n",
    "for dirname, _, filenames in os.walk('/kaggle/input'):\n",
    "    for filename in filenames:\n",
    "        print(os.path.join(dirname, filename))\n",
    "\n",
    "# You can write up to 20GB to the current directory (/kaggle/working/) that gets preserved as output when you create a version using \"Save & Run All\" \n",
    "# You can also write temporary files to /kaggle/temp/, but they won't be saved outside of the current session"
   ]
  },
  {
   "cell_type": "markdown",
   "metadata": {
    "papermill": {
     "duration": 0.023011,
     "end_time": "2021-01-05T08:32:43.863960",
     "exception": false,
     "start_time": "2021-01-05T08:32:43.840949",
     "status": "completed"
    },
    "tags": []
   },
   "source": [
    "### Description the data\n",
    "This dataset is originally from the National Institute of Diabetes and Digestive and Kidney Diseases. The objective of the dataset is to diagnostically predict whether or not a patient has diabetes, based on certain diagnostic measurements included in the dataset. Several constraints were placed on the selection of these instances from a larger database. In particular, all patients here are females at least 21 years old of Pima Indian heritage.\n"
   ]
  },
  {
   "cell_type": "markdown",
   "metadata": {
    "papermill": {
     "duration": 0.023525,
     "end_time": "2021-01-05T08:32:43.911678",
     "exception": false,
     "start_time": "2021-01-05T08:32:43.888153",
     "status": "completed"
    },
    "tags": []
   },
   "source": [
    "# Models used in this notebook\n",
    "\n",
    "* K-NN model\n",
    "* Naive Bayes model\n",
    "* SVM Model\n",
    "* Decision Tree Model\n",
    "* Logistic Regression\n",
    "* RidgeClassifier Model\n",
    "\n",
    "### Ensemble Models\n",
    "* Random Forest Classifier\n",
    "* XGBoost Classifier\n",
    "\n",
    "This notebook for beginners, to simple implementation these models"
   ]
  },
  {
   "cell_type": "markdown",
   "metadata": {
    "papermill": {
     "duration": 0.024648,
     "end_time": "2021-01-05T08:32:43.960291",
     "exception": false,
     "start_time": "2021-01-05T08:32:43.935643",
     "status": "completed"
    },
    "tags": []
   },
   "source": [
    "# Import Libraries"
   ]
  },
  {
   "cell_type": "code",
   "execution_count": 2,
   "metadata": {
    "execution": {
     "iopub.execute_input": "2021-01-05T08:32:44.022824Z",
     "iopub.status.busy": "2021-01-05T08:32:44.021995Z",
     "iopub.status.idle": "2021-01-05T08:32:46.197475Z",
     "shell.execute_reply": "2021-01-05T08:32:46.196752Z"
    },
    "papermill": {
     "duration": 2.213513,
     "end_time": "2021-01-05T08:32:46.197626",
     "exception": false,
     "start_time": "2021-01-05T08:32:43.984113",
     "status": "completed"
    },
    "tags": []
   },
   "outputs": [],
   "source": [
    "# For data split\n",
    "from sklearn.model_selection import train_test_split\n",
    "\n",
    "# Models\n",
    "from sklearn.linear_model import LogisticRegression\n",
    "from sklearn.tree import DecisionTreeClassifier\n",
    "from sklearn.neighbors import KNeighborsClassifier\n",
    "from sklearn.naive_bayes import GaussianNB\n",
    "from sklearn.svm import SVC\n",
    "from sklearn.linear_model import RidgeClassifier\n",
    "from sklearn.ensemble import RandomForestClassifier\n",
    "from xgboost import XGBClassifier\n",
    "\n",
    "# To evaluation the final model\n",
    "from sklearn.metrics import confusion_matrix,classification_report\n",
    "\n",
    "# Data visualization\n",
    "import seaborn as sns\n",
    "import matplotlib.pyplot as plt\n",
    "%matplotlib inline"
   ]
  },
  {
   "cell_type": "markdown",
   "metadata": {
    "papermill": {
     "duration": 0.024298,
     "end_time": "2021-01-05T08:32:46.246608",
     "exception": false,
     "start_time": "2021-01-05T08:32:46.222310",
     "status": "completed"
    },
    "tags": []
   },
   "source": [
    "# Read the data"
   ]
  },
  {
   "cell_type": "code",
   "execution_count": 3,
   "metadata": {
    "_cell_guid": "79c7e3d0-c299-4dcb-8224-4455121ee9b0",
    "_uuid": "d629ff2d2480ee46fbb7e2d37f6b5fab8052498a",
    "execution": {
     "iopub.execute_input": "2021-01-05T08:32:46.301196Z",
     "iopub.status.busy": "2021-01-05T08:32:46.300527Z",
     "iopub.status.idle": "2021-01-05T08:32:46.333922Z",
     "shell.execute_reply": "2021-01-05T08:32:46.333347Z"
    },
    "papermill": {
     "duration": 0.063616,
     "end_time": "2021-01-05T08:32:46.334048",
     "exception": false,
     "start_time": "2021-01-05T08:32:46.270432",
     "status": "completed"
    },
    "tags": []
   },
   "outputs": [
    {
     "data": {
      "text/html": [
       "<div>\n",
       "<style scoped>\n",
       "    .dataframe tbody tr th:only-of-type {\n",
       "        vertical-align: middle;\n",
       "    }\n",
       "\n",
       "    .dataframe tbody tr th {\n",
       "        vertical-align: top;\n",
       "    }\n",
       "\n",
       "    .dataframe thead th {\n",
       "        text-align: right;\n",
       "    }\n",
       "</style>\n",
       "<table border=\"1\" class=\"dataframe\">\n",
       "  <thead>\n",
       "    <tr style=\"text-align: right;\">\n",
       "      <th></th>\n",
       "      <th>Pregnancies</th>\n",
       "      <th>Glucose</th>\n",
       "      <th>BloodPressure</th>\n",
       "      <th>SkinThickness</th>\n",
       "      <th>Insulin</th>\n",
       "      <th>BMI</th>\n",
       "      <th>DiabetesPedigreeFunction</th>\n",
       "      <th>Age</th>\n",
       "      <th>Outcome</th>\n",
       "    </tr>\n",
       "  </thead>\n",
       "  <tbody>\n",
       "    <tr>\n",
       "      <th>0</th>\n",
       "      <td>6</td>\n",
       "      <td>148</td>\n",
       "      <td>72</td>\n",
       "      <td>35</td>\n",
       "      <td>0</td>\n",
       "      <td>33.6</td>\n",
       "      <td>0.627</td>\n",
       "      <td>50</td>\n",
       "      <td>1</td>\n",
       "    </tr>\n",
       "    <tr>\n",
       "      <th>1</th>\n",
       "      <td>1</td>\n",
       "      <td>85</td>\n",
       "      <td>66</td>\n",
       "      <td>29</td>\n",
       "      <td>0</td>\n",
       "      <td>26.6</td>\n",
       "      <td>0.351</td>\n",
       "      <td>31</td>\n",
       "      <td>0</td>\n",
       "    </tr>\n",
       "    <tr>\n",
       "      <th>2</th>\n",
       "      <td>8</td>\n",
       "      <td>183</td>\n",
       "      <td>64</td>\n",
       "      <td>0</td>\n",
       "      <td>0</td>\n",
       "      <td>23.3</td>\n",
       "      <td>0.672</td>\n",
       "      <td>32</td>\n",
       "      <td>1</td>\n",
       "    </tr>\n",
       "    <tr>\n",
       "      <th>3</th>\n",
       "      <td>1</td>\n",
       "      <td>89</td>\n",
       "      <td>66</td>\n",
       "      <td>23</td>\n",
       "      <td>94</td>\n",
       "      <td>28.1</td>\n",
       "      <td>0.167</td>\n",
       "      <td>21</td>\n",
       "      <td>0</td>\n",
       "    </tr>\n",
       "    <tr>\n",
       "      <th>4</th>\n",
       "      <td>0</td>\n",
       "      <td>137</td>\n",
       "      <td>40</td>\n",
       "      <td>35</td>\n",
       "      <td>168</td>\n",
       "      <td>43.1</td>\n",
       "      <td>2.288</td>\n",
       "      <td>33</td>\n",
       "      <td>1</td>\n",
       "    </tr>\n",
       "  </tbody>\n",
       "</table>\n",
       "</div>"
      ],
      "text/plain": [
       "   Pregnancies  Glucose  BloodPressure  SkinThickness  Insulin   BMI  \\\n",
       "0            6      148             72             35        0  33.6   \n",
       "1            1       85             66             29        0  26.6   \n",
       "2            8      183             64              0        0  23.3   \n",
       "3            1       89             66             23       94  28.1   \n",
       "4            0      137             40             35      168  43.1   \n",
       "\n",
       "   DiabetesPedigreeFunction  Age  Outcome  \n",
       "0                     0.627   50        1  \n",
       "1                     0.351   31        0  \n",
       "2                     0.672   32        1  \n",
       "3                     0.167   21        0  \n",
       "4                     2.288   33        1  "
      ]
     },
     "execution_count": 3,
     "metadata": {},
     "output_type": "execute_result"
    }
   ],
   "source": [
    "# read the data\n",
    "diabetes_data = pd.read_csv('../input/pima-indians-diabetes-database/diabetes.csv')\n",
    "\n",
    "#Print the first 5 rows of the dataframe.\n",
    "diabetes_data.head()"
   ]
  },
  {
   "cell_type": "code",
   "execution_count": 4,
   "metadata": {
    "execution": {
     "iopub.execute_input": "2021-01-05T08:32:46.388181Z",
     "iopub.status.busy": "2021-01-05T08:32:46.387431Z",
     "iopub.status.idle": "2021-01-05T08:32:46.392523Z",
     "shell.execute_reply": "2021-01-05T08:32:46.391971Z"
    },
    "papermill": {
     "duration": 0.034216,
     "end_time": "2021-01-05T08:32:46.392635",
     "exception": false,
     "start_time": "2021-01-05T08:32:46.358419",
     "status": "completed"
    },
    "tags": []
   },
   "outputs": [
    {
     "data": {
      "text/plain": [
       "(768, 9)"
      ]
     },
     "execution_count": 4,
     "metadata": {},
     "output_type": "execute_result"
    }
   ],
   "source": [
    "# shape of data\n",
    "diabetes_data.shape"
   ]
  },
  {
   "cell_type": "markdown",
   "metadata": {
    "papermill": {
     "duration": 0.024629,
     "end_time": "2021-01-05T08:32:46.441905",
     "exception": false,
     "start_time": "2021-01-05T08:32:46.417276",
     "status": "completed"
    },
    "tags": []
   },
   "source": [
    "# Missing Values and data type check"
   ]
  },
  {
   "cell_type": "code",
   "execution_count": 5,
   "metadata": {
    "execution": {
     "iopub.execute_input": "2021-01-05T08:32:46.499619Z",
     "iopub.status.busy": "2021-01-05T08:32:46.498886Z",
     "iopub.status.idle": "2021-01-05T08:32:46.505261Z",
     "shell.execute_reply": "2021-01-05T08:32:46.504769Z"
    },
    "papermill": {
     "duration": 0.038235,
     "end_time": "2021-01-05T08:32:46.505366",
     "exception": false,
     "start_time": "2021-01-05T08:32:46.467131",
     "status": "completed"
    },
    "tags": []
   },
   "outputs": [
    {
     "data": {
      "text/plain": [
       "Pregnancies                 0\n",
       "Glucose                     0\n",
       "BloodPressure               0\n",
       "SkinThickness               0\n",
       "Insulin                     0\n",
       "BMI                         0\n",
       "DiabetesPedigreeFunction    0\n",
       "Age                         0\n",
       "Outcome                     0\n",
       "dtype: int64"
      ]
     },
     "execution_count": 5,
     "metadata": {},
     "output_type": "execute_result"
    }
   ],
   "source": [
    "# check for the missing values\n",
    "diabetes_data.isna().sum()"
   ]
  },
  {
   "cell_type": "code",
   "execution_count": 6,
   "metadata": {
    "execution": {
     "iopub.execute_input": "2021-01-05T08:32:46.568559Z",
     "iopub.status.busy": "2021-01-05T08:32:46.563170Z",
     "iopub.status.idle": "2021-01-05T08:32:46.573329Z",
     "shell.execute_reply": "2021-01-05T08:32:46.572603Z"
    },
    "papermill": {
     "duration": 0.043203,
     "end_time": "2021-01-05T08:32:46.573464",
     "exception": false,
     "start_time": "2021-01-05T08:32:46.530261",
     "status": "completed"
    },
    "tags": []
   },
   "outputs": [
    {
     "name": "stdout",
     "output_type": "stream",
     "text": [
      "<class 'pandas.core.frame.DataFrame'>\n",
      "RangeIndex: 768 entries, 0 to 767\n",
      "Data columns (total 9 columns):\n",
      " #   Column                    Non-Null Count  Dtype  \n",
      "---  ------                    --------------  -----  \n",
      " 0   Pregnancies               768 non-null    int64  \n",
      " 1   Glucose                   768 non-null    int64  \n",
      " 2   BloodPressure             768 non-null    int64  \n",
      " 3   SkinThickness             768 non-null    int64  \n",
      " 4   Insulin                   768 non-null    int64  \n",
      " 5   BMI                       768 non-null    float64\n",
      " 6   DiabetesPedigreeFunction  768 non-null    float64\n",
      " 7   Age                       768 non-null    int64  \n",
      " 8   Outcome                   768 non-null    int64  \n",
      "dtypes: float64(2), int64(7)\n",
      "memory usage: 54.1 KB\n"
     ]
    }
   ],
   "source": [
    "# check for the missing values and data type in one step\n",
    "\n",
    "diabetes_data.info()"
   ]
  },
  {
   "cell_type": "markdown",
   "metadata": {
    "papermill": {
     "duration": 0.026104,
     "end_time": "2021-01-05T08:32:46.626356",
     "exception": false,
     "start_time": "2021-01-05T08:32:46.600252",
     "status": "completed"
    },
    "tags": []
   },
   "source": [
    "Great !\n",
    "\n",
    "*No missing values and all data type are numerical without any categorical variables*"
   ]
  },
  {
   "cell_type": "markdown",
   "metadata": {
    "papermill": {
     "duration": 0.025349,
     "end_time": "2021-01-05T08:32:46.677308",
     "exception": false,
     "start_time": "2021-01-05T08:32:46.651959",
     "status": "completed"
    },
    "tags": []
   },
   "source": [
    "# Data visualization"
   ]
  },
  {
   "cell_type": "code",
   "execution_count": 7,
   "metadata": {
    "execution": {
     "iopub.execute_input": "2021-01-05T08:32:46.737556Z",
     "iopub.status.busy": "2021-01-05T08:32:46.736920Z",
     "iopub.status.idle": "2021-01-05T08:32:46.772859Z",
     "shell.execute_reply": "2021-01-05T08:32:46.772342Z"
    },
    "papermill": {
     "duration": 0.070116,
     "end_time": "2021-01-05T08:32:46.772958",
     "exception": false,
     "start_time": "2021-01-05T08:32:46.702842",
     "status": "completed"
    },
    "tags": []
   },
   "outputs": [
    {
     "data": {
      "text/html": [
       "<div>\n",
       "<style scoped>\n",
       "    .dataframe tbody tr th:only-of-type {\n",
       "        vertical-align: middle;\n",
       "    }\n",
       "\n",
       "    .dataframe tbody tr th {\n",
       "        vertical-align: top;\n",
       "    }\n",
       "\n",
       "    .dataframe thead th {\n",
       "        text-align: right;\n",
       "    }\n",
       "</style>\n",
       "<table border=\"1\" class=\"dataframe\">\n",
       "  <thead>\n",
       "    <tr style=\"text-align: right;\">\n",
       "      <th></th>\n",
       "      <th>count</th>\n",
       "      <th>mean</th>\n",
       "      <th>std</th>\n",
       "      <th>min</th>\n",
       "      <th>25%</th>\n",
       "      <th>50%</th>\n",
       "      <th>75%</th>\n",
       "      <th>max</th>\n",
       "    </tr>\n",
       "  </thead>\n",
       "  <tbody>\n",
       "    <tr>\n",
       "      <th>Pregnancies</th>\n",
       "      <td>768.0</td>\n",
       "      <td>3.845052</td>\n",
       "      <td>3.369578</td>\n",
       "      <td>0.000</td>\n",
       "      <td>1.00000</td>\n",
       "      <td>3.0000</td>\n",
       "      <td>6.00000</td>\n",
       "      <td>17.00</td>\n",
       "    </tr>\n",
       "    <tr>\n",
       "      <th>Glucose</th>\n",
       "      <td>768.0</td>\n",
       "      <td>120.894531</td>\n",
       "      <td>31.972618</td>\n",
       "      <td>0.000</td>\n",
       "      <td>99.00000</td>\n",
       "      <td>117.0000</td>\n",
       "      <td>140.25000</td>\n",
       "      <td>199.00</td>\n",
       "    </tr>\n",
       "    <tr>\n",
       "      <th>BloodPressure</th>\n",
       "      <td>768.0</td>\n",
       "      <td>69.105469</td>\n",
       "      <td>19.355807</td>\n",
       "      <td>0.000</td>\n",
       "      <td>62.00000</td>\n",
       "      <td>72.0000</td>\n",
       "      <td>80.00000</td>\n",
       "      <td>122.00</td>\n",
       "    </tr>\n",
       "    <tr>\n",
       "      <th>SkinThickness</th>\n",
       "      <td>768.0</td>\n",
       "      <td>20.536458</td>\n",
       "      <td>15.952218</td>\n",
       "      <td>0.000</td>\n",
       "      <td>0.00000</td>\n",
       "      <td>23.0000</td>\n",
       "      <td>32.00000</td>\n",
       "      <td>99.00</td>\n",
       "    </tr>\n",
       "    <tr>\n",
       "      <th>Insulin</th>\n",
       "      <td>768.0</td>\n",
       "      <td>79.799479</td>\n",
       "      <td>115.244002</td>\n",
       "      <td>0.000</td>\n",
       "      <td>0.00000</td>\n",
       "      <td>30.5000</td>\n",
       "      <td>127.25000</td>\n",
       "      <td>846.00</td>\n",
       "    </tr>\n",
       "    <tr>\n",
       "      <th>BMI</th>\n",
       "      <td>768.0</td>\n",
       "      <td>31.992578</td>\n",
       "      <td>7.884160</td>\n",
       "      <td>0.000</td>\n",
       "      <td>27.30000</td>\n",
       "      <td>32.0000</td>\n",
       "      <td>36.60000</td>\n",
       "      <td>67.10</td>\n",
       "    </tr>\n",
       "    <tr>\n",
       "      <th>DiabetesPedigreeFunction</th>\n",
       "      <td>768.0</td>\n",
       "      <td>0.471876</td>\n",
       "      <td>0.331329</td>\n",
       "      <td>0.078</td>\n",
       "      <td>0.24375</td>\n",
       "      <td>0.3725</td>\n",
       "      <td>0.62625</td>\n",
       "      <td>2.42</td>\n",
       "    </tr>\n",
       "    <tr>\n",
       "      <th>Age</th>\n",
       "      <td>768.0</td>\n",
       "      <td>33.240885</td>\n",
       "      <td>11.760232</td>\n",
       "      <td>21.000</td>\n",
       "      <td>24.00000</td>\n",
       "      <td>29.0000</td>\n",
       "      <td>41.00000</td>\n",
       "      <td>81.00</td>\n",
       "    </tr>\n",
       "    <tr>\n",
       "      <th>Outcome</th>\n",
       "      <td>768.0</td>\n",
       "      <td>0.348958</td>\n",
       "      <td>0.476951</td>\n",
       "      <td>0.000</td>\n",
       "      <td>0.00000</td>\n",
       "      <td>0.0000</td>\n",
       "      <td>1.00000</td>\n",
       "      <td>1.00</td>\n",
       "    </tr>\n",
       "  </tbody>\n",
       "</table>\n",
       "</div>"
      ],
      "text/plain": [
       "                          count        mean         std     min       25%  \\\n",
       "Pregnancies               768.0    3.845052    3.369578   0.000   1.00000   \n",
       "Glucose                   768.0  120.894531   31.972618   0.000  99.00000   \n",
       "BloodPressure             768.0   69.105469   19.355807   0.000  62.00000   \n",
       "SkinThickness             768.0   20.536458   15.952218   0.000   0.00000   \n",
       "Insulin                   768.0   79.799479  115.244002   0.000   0.00000   \n",
       "BMI                       768.0   31.992578    7.884160   0.000  27.30000   \n",
       "DiabetesPedigreeFunction  768.0    0.471876    0.331329   0.078   0.24375   \n",
       "Age                       768.0   33.240885   11.760232  21.000  24.00000   \n",
       "Outcome                   768.0    0.348958    0.476951   0.000   0.00000   \n",
       "\n",
       "                               50%        75%     max  \n",
       "Pregnancies                 3.0000    6.00000   17.00  \n",
       "Glucose                   117.0000  140.25000  199.00  \n",
       "BloodPressure              72.0000   80.00000  122.00  \n",
       "SkinThickness              23.0000   32.00000   99.00  \n",
       "Insulin                    30.5000  127.25000  846.00  \n",
       "BMI                        32.0000   36.60000   67.10  \n",
       "DiabetesPedigreeFunction    0.3725    0.62625    2.42  \n",
       "Age                        29.0000   41.00000   81.00  \n",
       "Outcome                     0.0000    1.00000    1.00  "
      ]
     },
     "execution_count": 7,
     "metadata": {},
     "output_type": "execute_result"
    }
   ],
   "source": [
    "diabetes_data.describe().T"
   ]
  },
  {
   "cell_type": "code",
   "execution_count": 8,
   "metadata": {
    "execution": {
     "iopub.execute_input": "2021-01-05T08:32:46.832611Z",
     "iopub.status.busy": "2021-01-05T08:32:46.831990Z",
     "iopub.status.idle": "2021-01-05T08:32:48.046261Z",
     "shell.execute_reply": "2021-01-05T08:32:48.046798Z"
    },
    "papermill": {
     "duration": 1.248139,
     "end_time": "2021-01-05T08:32:48.046937",
     "exception": false,
     "start_time": "2021-01-05T08:32:46.798798",
     "status": "completed"
    },
    "tags": []
   },
   "outputs": [
    {
     "data": {
      "image/png": "[encoded data removed]",
      "text/plain": [
       "<Figure size 1152x1152 with 8 Axes>"
      ]
     },
     "metadata": {
      "needs_background": "light"
     },
     "output_type": "display_data"
    }
   ],
   "source": [
    "feature_name = [name for name in diabetes_data.columns.values]\n",
    "plt.figure(figsize=(16,16))\n",
    "for i,name in enumerate(diabetes_data.columns.values[:-1]):\n",
    "    ax = plt.subplot((len (feature_name)-1)/2, 2, i + 1)\n",
    "    sns.scatterplot(y=diabetes_data[name], x=diabetes_data[diabetes_data.columns.values[-1]])\n",
    "    plt.ylabel(feature_name[i])\n",
    "    plt.xlabel(feature_name[-1])\n"
   ]
  },
  {
   "cell_type": "markdown",
   "metadata": {
    "papermill": {
     "duration": 0.028984,
     "end_time": "2021-01-05T08:32:48.105916",
     "exception": false,
     "start_time": "2021-01-05T08:32:48.076932",
     "status": "completed"
    },
    "tags": []
   },
   "source": [
    "# Select the features and Target\n",
    "\n",
    "Data Split to train and test datasets"
   ]
  },
  {
   "cell_type": "code",
   "execution_count": 9,
   "metadata": {
    "execution": {
     "iopub.execute_input": "2021-01-05T08:32:48.172356Z",
     "iopub.status.busy": "2021-01-05T08:32:48.171713Z",
     "iopub.status.idle": "2021-01-05T08:32:48.175186Z",
     "shell.execute_reply": "2021-01-05T08:32:48.174554Z"
    },
    "papermill": {
     "duration": 0.039954,
     "end_time": "2021-01-05T08:32:48.175291",
     "exception": false,
     "start_time": "2021-01-05T08:32:48.135337",
     "status": "completed"
    },
    "tags": []
   },
   "outputs": [],
   "source": [
    "X = diabetes_data.drop(['Outcome'],axis=1)\n",
    "y = diabetes_data['Outcome']"
   ]
  },
  {
   "cell_type": "code",
   "execution_count": 10,
   "metadata": {
    "execution": {
     "iopub.execute_input": "2021-01-05T08:32:48.241555Z",
     "iopub.status.busy": "2021-01-05T08:32:48.239628Z",
     "iopub.status.idle": "2021-01-05T08:32:48.246641Z",
     "shell.execute_reply": "2021-01-05T08:32:48.247112Z"
    },
    "papermill": {
     "duration": 0.042983,
     "end_time": "2021-01-05T08:32:48.247241",
     "exception": false,
     "start_time": "2021-01-05T08:32:48.204258",
     "status": "completed"
    },
    "tags": []
   },
   "outputs": [
    {
     "name": "stdout",
     "output_type": "stream",
     "text": [
      "(537, 8)\n",
      "(537,)\n",
      "(231, 8)\n",
      "(231,)\n"
     ]
    }
   ],
   "source": [
    "# split the data to train and test or train and test and vaildation\n",
    "\n",
    "X_train, X_test, y_train, y_test = train_test_split(X, y, train_size=0.7)\n",
    "\n",
    "print (X_train.shape)\n",
    "print (y_train.shape)\n",
    "print (X_test.shape)\n",
    "print (y_test.shape)"
   ]
  },
  {
   "cell_type": "markdown",
   "metadata": {
    "papermill": {
     "duration": 0.028693,
     "end_time": "2021-01-05T08:32:48.305533",
     "exception": false,
     "start_time": "2021-01-05T08:32:48.276840",
     "status": "completed"
    },
    "tags": []
   },
   "source": [
    "### K-NN Model"
   ]
  },
  {
   "cell_type": "code",
   "execution_count": 11,
   "metadata": {
    "execution": {
     "iopub.execute_input": "2021-01-05T08:32:48.374637Z",
     "iopub.status.busy": "2021-01-05T08:32:48.373921Z",
     "iopub.status.idle": "2021-01-05T08:32:48.430527Z",
     "shell.execute_reply": "2021-01-05T08:32:48.429776Z"
    },
    "papermill": {
     "duration": 0.095251,
     "end_time": "2021-01-05T08:32:48.430671",
     "exception": false,
     "start_time": "2021-01-05T08:32:48.335420",
     "status": "completed"
    },
    "tags": []
   },
   "outputs": [
    {
     "name": "stdout",
     "output_type": "stream",
     "text": [
      "The train score:  0.8361266294227188\n",
      "The test score:  0.683982683982684\n"
     ]
    }
   ],
   "source": [
    "KNeighborsClassifierModel = KNeighborsClassifier(n_neighbors=2)\n",
    "\n",
    "# train the model\n",
    "KNeighborsClassifierModel.fit(X_train,y_train)\n",
    "\n",
    "print ('The train score: ',KNeighborsClassifierModel.score(X_train,y_train))\n",
    "print ('The test score: ',KNeighborsClassifierModel.score(X_test,y_test))"
   ]
  },
  {
   "cell_type": "markdown",
   "metadata": {
    "papermill": {
     "duration": 0.029873,
     "end_time": "2021-01-05T08:32:48.491775",
     "exception": false,
     "start_time": "2021-01-05T08:32:48.461902",
     "status": "completed"
    },
    "tags": []
   },
   "source": [
    "### Naive Bayes (GaussianNB) Model"
   ]
  },
  {
   "cell_type": "code",
   "execution_count": 12,
   "metadata": {
    "execution": {
     "iopub.execute_input": "2021-01-05T08:32:48.561074Z",
     "iopub.status.busy": "2021-01-05T08:32:48.560266Z",
     "iopub.status.idle": "2021-01-05T08:32:48.573418Z",
     "shell.execute_reply": "2021-01-05T08:32:48.572803Z"
    },
    "papermill": {
     "duration": 0.051198,
     "end_time": "2021-01-05T08:32:48.573560",
     "exception": false,
     "start_time": "2021-01-05T08:32:48.522362",
     "status": "completed"
    },
    "tags": []
   },
   "outputs": [
    {
     "name": "stdout",
     "output_type": "stream",
     "text": [
      "The train score:  0.7653631284916201\n",
      "The test score:  0.7748917748917749\n"
     ]
    }
   ],
   "source": [
    "GaussianNBModel = GaussianNB()\n",
    "\n",
    "# train the model\n",
    "GaussianNBModel.fit(X_train,y_train)\n",
    "\n",
    "print ('The train score: ',GaussianNBModel.score(X_train,y_train))\n",
    "print ('The test score: ',GaussianNBModel.score(X_test,y_test))"
   ]
  },
  {
   "cell_type": "markdown",
   "metadata": {
    "papermill": {
     "duration": 0.03073,
     "end_time": "2021-01-05T08:32:48.634942",
     "exception": false,
     "start_time": "2021-01-05T08:32:48.604212",
     "status": "completed"
    },
    "tags": []
   },
   "source": [
    "### SVC Model"
   ]
  },
  {
   "cell_type": "code",
   "execution_count": 13,
   "metadata": {
    "execution": {
     "iopub.execute_input": "2021-01-05T08:32:48.705382Z",
     "iopub.status.busy": "2021-01-05T08:32:48.704730Z",
     "iopub.status.idle": "2021-01-05T08:32:48.730831Z",
     "shell.execute_reply": "2021-01-05T08:32:48.731315Z"
    },
    "papermill": {
     "duration": 0.066177,
     "end_time": "2021-01-05T08:32:48.731444",
     "exception": false,
     "start_time": "2021-01-05T08:32:48.665267",
     "status": "completed"
    },
    "tags": []
   },
   "outputs": [
    {
     "name": "stdout",
     "output_type": "stream",
     "text": [
      "The train score:  0.7802607076350093\n",
      "The test score:  0.7359307359307359\n"
     ]
    }
   ],
   "source": [
    "SVCModel = SVC()\n",
    "\n",
    "# train the model\n",
    "SVCModel.fit(X_train,y_train)\n",
    "\n",
    "print ('The train score: ',SVCModel.score(X_train,y_train))\n",
    "print ('The test score: ',SVCModel.score(X_test,y_test))"
   ]
  },
  {
   "cell_type": "markdown",
   "metadata": {
    "papermill": {
     "duration": 0.030506,
     "end_time": "2021-01-05T08:32:48.792422",
     "exception": false,
     "start_time": "2021-01-05T08:32:48.761916",
     "status": "completed"
    },
    "tags": []
   },
   "source": [
    "### DecisionTreeClassifier Model"
   ]
  },
  {
   "cell_type": "code",
   "execution_count": 14,
   "metadata": {
    "execution": {
     "iopub.execute_input": "2021-01-05T08:32:48.862835Z",
     "iopub.status.busy": "2021-01-05T08:32:48.862182Z",
     "iopub.status.idle": "2021-01-05T08:32:48.880049Z",
     "shell.execute_reply": "2021-01-05T08:32:48.879395Z"
    },
    "papermill": {
     "duration": 0.056806,
     "end_time": "2021-01-05T08:32:48.880150",
     "exception": false,
     "start_time": "2021-01-05T08:32:48.823344",
     "status": "completed"
    },
    "tags": []
   },
   "outputs": [
    {
     "name": "stdout",
     "output_type": "stream",
     "text": [
      "The train score:  1.0\n",
      "The test score:  0.70995670995671\n"
     ]
    }
   ],
   "source": [
    "# Descion tree model\n",
    "\n",
    "DecisionTreeClassifierModel = DecisionTreeClassifier()\n",
    "\n",
    "# train the model\n",
    "DecisionTreeClassifierModel.fit(X_train,y_train)\n",
    "\n",
    "print ('The train score: ',DecisionTreeClassifierModel.score(X_train,y_train))\n",
    "print ('The test score: ',DecisionTreeClassifierModel.score(X_test,y_test))"
   ]
  },
  {
   "cell_type": "markdown",
   "metadata": {
    "papermill": {
     "duration": 0.031993,
     "end_time": "2021-01-05T08:32:48.943338",
     "exception": false,
     "start_time": "2021-01-05T08:32:48.911345",
     "status": "completed"
    },
    "tags": []
   },
   "source": [
    "The test score is less than the train score, which is means ***overfit***"
   ]
  },
  {
   "cell_type": "markdown",
   "metadata": {
    "papermill": {
     "duration": 0.022495,
     "end_time": "2021-01-05T08:32:48.996435",
     "exception": false,
     "start_time": "2021-01-05T08:32:48.973940",
     "status": "completed"
    },
    "tags": []
   },
   "source": [
    "### Logistic regression Model"
   ]
  },
  {
   "cell_type": "code",
   "execution_count": 15,
   "metadata": {
    "execution": {
     "iopub.execute_input": "2021-01-05T08:32:49.050395Z",
     "iopub.status.busy": "2021-01-05T08:32:49.048058Z",
     "iopub.status.idle": "2021-01-05T08:32:49.085967Z",
     "shell.execute_reply": "2021-01-05T08:32:49.085031Z"
    },
    "papermill": {
     "duration": 0.067174,
     "end_time": "2021-01-05T08:32:49.086071",
     "exception": false,
     "start_time": "2021-01-05T08:32:49.018897",
     "status": "completed"
    },
    "tags": []
   },
   "outputs": [
    {
     "name": "stdout",
     "output_type": "stream",
     "text": [
      "the train score:  0.7821229050279329\n",
      "the test score:  0.7705627705627706\n"
     ]
    }
   ],
   "source": [
    "# Logistic regression\n",
    "\n",
    "LogisticRegressionModel = LogisticRegression(max_iter=1000)\n",
    "LogisticRegressionModel.fit(X_train,y_train)\n",
    "print ('the train score: ',LogisticRegressionModel.score(X_train,y_train))\n",
    "print ('the test score: ',LogisticRegressionModel.score(X_test,y_test))"
   ]
  },
  {
   "cell_type": "code",
   "execution_count": 16,
   "metadata": {
    "execution": {
     "iopub.execute_input": "2021-01-05T08:32:49.142221Z",
     "iopub.status.busy": "2021-01-05T08:32:49.141696Z",
     "iopub.status.idle": "2021-01-05T08:32:49.177198Z",
     "shell.execute_reply": "2021-01-05T08:32:49.176843Z"
    },
    "papermill": {
     "duration": 0.067457,
     "end_time": "2021-01-05T08:32:49.177271",
     "exception": false,
     "start_time": "2021-01-05T08:32:49.109814",
     "status": "completed"
    },
    "tags": []
   },
   "outputs": [
    {
     "name": "stdout",
     "output_type": "stream",
     "text": [
      "the train score:  0.7877094972067039\n",
      "the test score:  0.7532467532467533\n"
     ]
    }
   ],
   "source": [
    "RidgeClassifierModel = RidgeClassifier()\n",
    "RidgeClassifierModel.fit(X_train,y_train)\n",
    "print ('the train score: ',RidgeClassifierModel.score(X_train,y_train))\n",
    "print ('the test score: ',RidgeClassifierModel.score(X_test,y_test))"
   ]
  },
  {
   "cell_type": "markdown",
   "metadata": {
    "papermill": {
     "duration": 0.022771,
     "end_time": "2021-01-05T08:32:49.222917",
     "exception": false,
     "start_time": "2021-01-05T08:32:49.200146",
     "status": "completed"
    },
    "tags": []
   },
   "source": [
    "# Ensemble Models\n",
    "### Random Forest Classifier Model"
   ]
  },
  {
   "cell_type": "code",
   "execution_count": 17,
   "metadata": {
    "execution": {
     "iopub.execute_input": "2021-01-05T08:32:49.279687Z",
     "iopub.status.busy": "2021-01-05T08:32:49.278459Z",
     "iopub.status.idle": "2021-01-05T08:32:49.567881Z",
     "shell.execute_reply": "2021-01-05T08:32:49.567152Z"
    },
    "papermill": {
     "duration": 0.320949,
     "end_time": "2021-01-05T08:32:49.567996",
     "exception": false,
     "start_time": "2021-01-05T08:32:49.247047",
     "status": "completed"
    },
    "tags": []
   },
   "outputs": [
    {
     "name": "stdout",
     "output_type": "stream",
     "text": [
      "Train Score:  1.0\n",
      "Test Score:  0.7445887445887446\n"
     ]
    }
   ],
   "source": [
    "RandomForestClassifierModel = RandomForestClassifier()\n",
    "RandomForestClassifierModel.fit(X_train,y_train)\n",
    "\n",
    "print ('Train Score: ',RandomForestClassifierModel.score(X_train,y_train))\n",
    "print ('Test Score: ',RandomForestClassifierModel.score(X_test,y_test))"
   ]
  },
  {
   "cell_type": "markdown",
   "metadata": {
    "papermill": {
     "duration": 0.032513,
     "end_time": "2021-01-05T08:32:49.635356",
     "exception": false,
     "start_time": "2021-01-05T08:32:49.602843",
     "status": "completed"
    },
    "tags": []
   },
   "source": [
    "### XGBoosting Classifier Model"
   ]
  },
  {
   "cell_type": "code",
   "execution_count": 18,
   "metadata": {
    "execution": {
     "iopub.execute_input": "2021-01-05T08:32:49.708042Z",
     "iopub.status.busy": "2021-01-05T08:32:49.707388Z",
     "iopub.status.idle": "2021-01-05T08:32:49.792679Z",
     "shell.execute_reply": "2021-01-05T08:32:49.793365Z"
    },
    "papermill": {
     "duration": 0.125367,
     "end_time": "2021-01-05T08:32:49.793536",
     "exception": false,
     "start_time": "2021-01-05T08:32:49.668169",
     "status": "completed"
    },
    "tags": []
   },
   "outputs": [
    {
     "name": "stdout",
     "output_type": "stream",
     "text": [
      "Train Score:  1.0\n",
      "Test Score:  0.7229437229437229\n"
     ]
    }
   ],
   "source": [
    "XGBClassifierModel = XGBClassifier()\n",
    "XGBClassifierModel.fit(X_train,y_train)\n",
    "\n",
    "print ('Train Score: ',XGBClassifierModel.score(X_train,y_train))\n",
    "print ('Test Score: ',XGBClassifierModel.score(X_test,y_test))"
   ]
  },
  {
   "cell_type": "markdown",
   "metadata": {
    "papermill": {
     "duration": 0.042888,
     "end_time": "2021-01-05T08:32:49.877589",
     "exception": false,
     "start_time": "2021-01-05T08:32:49.834701",
     "status": "completed"
    },
    "tags": []
   },
   "source": [
    "### Final Model"
   ]
  },
  {
   "cell_type": "code",
   "execution_count": 19,
   "metadata": {
    "execution": {
     "iopub.execute_input": "2021-01-05T08:32:49.999904Z",
     "iopub.status.busy": "2021-01-05T08:32:49.998574Z",
     "iopub.status.idle": "2021-01-05T08:32:50.256388Z",
     "shell.execute_reply": "2021-01-05T08:32:50.255759Z"
    },
    "papermill": {
     "duration": 0.336301,
     "end_time": "2021-01-05T08:32:50.256515",
     "exception": false,
     "start_time": "2021-01-05T08:32:49.920214",
     "status": "completed"
    },
    "tags": []
   },
   "outputs": [
    {
     "name": "stdout",
     "output_type": "stream",
     "text": [
      "Train Score:  1.0\n",
      "Test Score:  0.7445887445887446\n"
     ]
    }
   ],
   "source": [
    "Final_Model = RandomForestClassifier()\n",
    "Final_Model.fit(X_train,y_train)\n",
    "\n",
    "print ('Train Score: ',Final_Model.score(X_train,y_train))\n",
    "print ('Test Score: ',Final_Model.score(X_test,y_test))"
   ]
  },
  {
   "cell_type": "markdown",
   "metadata": {
    "papermill": {
     "duration": 0.033258,
     "end_time": "2021-01-05T08:32:50.323255",
     "exception": false,
     "start_time": "2021-01-05T08:32:50.289997",
     "status": "completed"
    },
    "tags": []
   },
   "source": [
    "### Predicitons"
   ]
  },
  {
   "cell_type": "code",
   "execution_count": 20,
   "metadata": {
    "execution": {
     "iopub.execute_input": "2021-01-05T08:32:50.399018Z",
     "iopub.status.busy": "2021-01-05T08:32:50.398374Z",
     "iopub.status.idle": "2021-01-05T08:32:50.419517Z",
     "shell.execute_reply": "2021-01-05T08:32:50.418949Z"
    },
    "papermill": {
     "duration": 0.062796,
     "end_time": "2021-01-05T08:32:50.419618",
     "exception": false,
     "start_time": "2021-01-05T08:32:50.356822",
     "status": "completed"
    },
    "tags": []
   },
   "outputs": [
    {
     "name": "stdout",
     "output_type": "stream",
     "text": [
      "The Last 10 True Outcome:  [1 1 0 0 0 0 0 1 1 0]\n",
      "The Last 10 Predicted Outcome:  [0 0 0 0 1 0 1 0 1 0]\n"
     ]
    }
   ],
   "source": [
    "predicitons = Final_Model.predict(X_test)\n",
    "print ('The Last 10 True Outcome: ',y_test[-10:].values)\n",
    "print ('The Last 10 Predicted Outcome: ',predicitons[-10:])"
   ]
  },
  {
   "cell_type": "markdown",
   "metadata": {
    "papermill": {
     "duration": 0.035052,
     "end_time": "2021-01-05T08:32:50.488678",
     "exception": false,
     "start_time": "2021-01-05T08:32:50.453626",
     "status": "completed"
    },
    "tags": []
   },
   "source": [
    "### Model Evaluation"
   ]
  },
  {
   "cell_type": "code",
   "execution_count": 21,
   "metadata": {
    "execution": {
     "iopub.execute_input": "2021-01-05T08:32:50.573773Z",
     "iopub.status.busy": "2021-01-05T08:32:50.573079Z",
     "iopub.status.idle": "2021-01-05T08:32:50.577497Z",
     "shell.execute_reply": "2021-01-05T08:32:50.576766Z"
    },
    "papermill": {
     "duration": 0.054174,
     "end_time": "2021-01-05T08:32:50.577633",
     "exception": false,
     "start_time": "2021-01-05T08:32:50.523459",
     "status": "completed"
    },
    "tags": []
   },
   "outputs": [
    {
     "name": "stdout",
     "output_type": "stream",
     "text": [
      "              precision    recall  f1-score   support\n",
      "\n",
      "           0       0.75      0.85      0.80       137\n",
      "           1       0.73      0.59      0.65        94\n",
      "\n",
      "    accuracy                           0.74       231\n",
      "   macro avg       0.74      0.72      0.72       231\n",
      "weighted avg       0.74      0.74      0.74       231\n",
      "\n"
     ]
    }
   ],
   "source": [
    "print (classification_report(y_test,predicitons))"
   ]
  },
  {
   "cell_type": "code",
   "execution_count": 22,
   "metadata": {
    "execution": {
     "iopub.execute_input": "2021-01-05T08:32:50.687974Z",
     "iopub.status.busy": "2021-01-05T08:32:50.687248Z",
     "iopub.status.idle": "2021-01-05T08:32:50.693467Z",
     "shell.execute_reply": "2021-01-05T08:32:50.692865Z"
    },
    "papermill": {
     "duration": 0.063983,
     "end_time": "2021-01-05T08:32:50.693589",
     "exception": false,
     "start_time": "2021-01-05T08:32:50.629606",
     "status": "completed"
    },
    "tags": []
   },
   "outputs": [
    {
     "data": {
      "text/plain": [
       "array([[117,  20],\n",
       "       [ 39,  55]])"
      ]
     },
     "execution_count": 22,
     "metadata": {},
     "output_type": "execute_result"
    }
   ],
   "source": [
    "CM = confusion_matrix(y_test,predicitons)\n",
    "CM"
   ]
  },
  {
   "cell_type": "markdown",
   "metadata": {
    "papermill": {
     "duration": 0.03442,
     "end_time": "2021-01-05T08:32:50.762645",
     "exception": false,
     "start_time": "2021-01-05T08:32:50.728225",
     "status": "completed"
    },
    "tags": []
   },
   "source": [
    "### Comments\n",
    "\n",
    "* The accuracy is ***not* accepted**, the goal of this notebook was just how the implementation of these models and evaluations.\n",
    "\n",
    "* We can split the data to train, validation and test, to apply the hyperparameter tuning to improve the accuracy"
   ]
  }
 ],
 "metadata": {
  "kernelspec": {
   "display_name": "Python 3",
   "language": "python",
   "name": "python3"
  },
  "language_info": {
   "codemirror_mode": {
    "name": "ipython",
    "version": 3
   },
   "file_extension": ".py",
   "mimetype": "text/x-python",
   "name": "python",
   "nbconvert_exporter": "python",
   "pygments_lexer": "ipython3",
   "version": "3.7.6"
  },
  "papermill": {
   "duration": 11.55973,
   "end_time": "2021-01-05T08:32:50.905357",
   "environment_variables": {},
   "exception": null,
   "input_path": "__notebook__.ipynb",
   "output_path": "__notebook__.ipynb",
   "parameters": {},
   "start_time": "2021-01-05T08:32:39.345627",
   "version": "2.1.0"
  }
 },
 "nbformat": 4,
 "nbformat_minor": 4
}
